{
 "cells": [
  {
   "cell_type": "code",
   "execution_count": 1,
   "metadata": {},
   "outputs": [],
   "source": [
    "#import all the required libraries \n",
    "import pandas as pd\n",
    "import numpy as np\n",
    "from sklearn import preprocessing\n",
    "import matplotlib.pyplot as plt"
   ]
  },
  {
   "cell_type": "code",
   "execution_count": 2,
   "metadata": {},
   "outputs": [],
   "source": [
    "#loading the csv file from the location or folder\n",
    "file_tr=r'C:\\Users\\Pavan\\Documents\\pet_data_set\\train.csv'\n",
    "file_test=r'C:\\Users\\Pavan\\Documents\\pet_data_set\\test.csv'\n"
   ]
  },
  {
   "cell_type": "code",
   "execution_count": 3,
   "metadata": {},
   "outputs": [],
   "source": [
    "#reading the file \n",
    "train=pd.read_csv(file_tr)\n",
    "test=pd.read_csv(file_test)\n"
   ]
  },
  {
   "cell_type": "code",
   "execution_count": 4,
   "metadata": {},
   "outputs": [
    {
     "data": {
      "text/html": [
       "<div>\n",
       "<style scoped>\n",
       "    .dataframe tbody tr th:only-of-type {\n",
       "        vertical-align: middle;\n",
       "    }\n",
       "\n",
       "    .dataframe tbody tr th {\n",
       "        vertical-align: top;\n",
       "    }\n",
       "\n",
       "    .dataframe thead th {\n",
       "        text-align: right;\n",
       "    }\n",
       "</style>\n",
       "<table border=\"1\" class=\"dataframe\">\n",
       "  <thead>\n",
       "    <tr style=\"text-align: right;\">\n",
       "      <th></th>\n",
       "      <th>pet_id</th>\n",
       "      <th>issue_date</th>\n",
       "      <th>listing_date</th>\n",
       "      <th>condition</th>\n",
       "      <th>color_type</th>\n",
       "      <th>length(m)</th>\n",
       "      <th>height(cm)</th>\n",
       "      <th>X1</th>\n",
       "      <th>X2</th>\n",
       "      <th>breed_category</th>\n",
       "      <th>pet_category</th>\n",
       "    </tr>\n",
       "  </thead>\n",
       "  <tbody>\n",
       "    <tr>\n",
       "      <td>0</td>\n",
       "      <td>ANSL_69903</td>\n",
       "      <td>10-07-2016 00:00</td>\n",
       "      <td>21-09-2016 16:25</td>\n",
       "      <td>2.0</td>\n",
       "      <td>Brown Tabby</td>\n",
       "      <td>0.80</td>\n",
       "      <td>7.78</td>\n",
       "      <td>13</td>\n",
       "      <td>9</td>\n",
       "      <td>0</td>\n",
       "      <td>1</td>\n",
       "    </tr>\n",
       "    <tr>\n",
       "      <td>1</td>\n",
       "      <td>ANSL_66892</td>\n",
       "      <td>21-11-2013 00:00</td>\n",
       "      <td>27-12-2018 17:47</td>\n",
       "      <td>1.0</td>\n",
       "      <td>White</td>\n",
       "      <td>0.72</td>\n",
       "      <td>14.19</td>\n",
       "      <td>13</td>\n",
       "      <td>9</td>\n",
       "      <td>0</td>\n",
       "      <td>2</td>\n",
       "    </tr>\n",
       "    <tr>\n",
       "      <td>2</td>\n",
       "      <td>ANSL_69750</td>\n",
       "      <td>28-09-2014 00:00</td>\n",
       "      <td>19-10-2016 08:24</td>\n",
       "      <td>NaN</td>\n",
       "      <td>Brown</td>\n",
       "      <td>0.15</td>\n",
       "      <td>40.90</td>\n",
       "      <td>15</td>\n",
       "      <td>4</td>\n",
       "      <td>2</td>\n",
       "      <td>4</td>\n",
       "    </tr>\n",
       "    <tr>\n",
       "      <td>3</td>\n",
       "      <td>ANSL_71623</td>\n",
       "      <td>31-12-2016 00:00</td>\n",
       "      <td>25-01-2019 18:30</td>\n",
       "      <td>1.0</td>\n",
       "      <td>White</td>\n",
       "      <td>0.62</td>\n",
       "      <td>17.82</td>\n",
       "      <td>0</td>\n",
       "      <td>1</td>\n",
       "      <td>0</td>\n",
       "      <td>2</td>\n",
       "    </tr>\n",
       "    <tr>\n",
       "      <td>4</td>\n",
       "      <td>ANSL_57969</td>\n",
       "      <td>28-09-2017 00:00</td>\n",
       "      <td>19-11-2017 09:38</td>\n",
       "      <td>2.0</td>\n",
       "      <td>Black</td>\n",
       "      <td>0.50</td>\n",
       "      <td>11.06</td>\n",
       "      <td>18</td>\n",
       "      <td>4</td>\n",
       "      <td>0</td>\n",
       "      <td>1</td>\n",
       "    </tr>\n",
       "    <tr>\n",
       "      <td>...</td>\n",
       "      <td>...</td>\n",
       "      <td>...</td>\n",
       "      <td>...</td>\n",
       "      <td>...</td>\n",
       "      <td>...</td>\n",
       "      <td>...</td>\n",
       "      <td>...</td>\n",
       "      <td>...</td>\n",
       "      <td>...</td>\n",
       "      <td>...</td>\n",
       "      <td>...</td>\n",
       "    </tr>\n",
       "    <tr>\n",
       "      <td>18829</td>\n",
       "      <td>ANSL_51738</td>\n",
       "      <td>26-01-2017 00:00</td>\n",
       "      <td>09-03-2018 15:35</td>\n",
       "      <td>2.0</td>\n",
       "      <td>Tricolor</td>\n",
       "      <td>0.44</td>\n",
       "      <td>27.36</td>\n",
       "      <td>0</td>\n",
       "      <td>1</td>\n",
       "      <td>0</td>\n",
       "      <td>2</td>\n",
       "    </tr>\n",
       "    <tr>\n",
       "      <td>18830</td>\n",
       "      <td>ANSL_59900</td>\n",
       "      <td>18-06-2016 00:00</td>\n",
       "      <td>09-07-2017 08:37</td>\n",
       "      <td>NaN</td>\n",
       "      <td>Brown</td>\n",
       "      <td>0.73</td>\n",
       "      <td>14.25</td>\n",
       "      <td>15</td>\n",
       "      <td>4</td>\n",
       "      <td>2</td>\n",
       "      <td>4</td>\n",
       "    </tr>\n",
       "    <tr>\n",
       "      <td>18831</td>\n",
       "      <td>ANSL_53210</td>\n",
       "      <td>21-07-2010 00:00</td>\n",
       "      <td>22-08-2018 14:27</td>\n",
       "      <td>0.0</td>\n",
       "      <td>Calico Point</td>\n",
       "      <td>0.99</td>\n",
       "      <td>28.13</td>\n",
       "      <td>13</td>\n",
       "      <td>9</td>\n",
       "      <td>1</td>\n",
       "      <td>1</td>\n",
       "    </tr>\n",
       "    <tr>\n",
       "      <td>18832</td>\n",
       "      <td>ANSL_63468</td>\n",
       "      <td>12-05-2017 00:00</td>\n",
       "      <td>08-02-2018 14:05</td>\n",
       "      <td>0.0</td>\n",
       "      <td>Tan</td>\n",
       "      <td>0.55</td>\n",
       "      <td>44.82</td>\n",
       "      <td>13</td>\n",
       "      <td>9</td>\n",
       "      <td>1</td>\n",
       "      <td>2</td>\n",
       "    </tr>\n",
       "    <tr>\n",
       "      <td>18833</td>\n",
       "      <td>ANSL_73558</td>\n",
       "      <td>13-12-2011 00:00</td>\n",
       "      <td>26-10-2018 14:18</td>\n",
       "      <td>0.0</td>\n",
       "      <td>Brown</td>\n",
       "      <td>0.86</td>\n",
       "      <td>37.40</td>\n",
       "      <td>0</td>\n",
       "      <td>1</td>\n",
       "      <td>1</td>\n",
       "      <td>2</td>\n",
       "    </tr>\n",
       "  </tbody>\n",
       "</table>\n",
       "<p>18834 rows × 11 columns</p>\n",
       "</div>"
      ],
      "text/plain": [
       "           pet_id        issue_date      listing_date  condition  \\\n",
       "0      ANSL_69903  10-07-2016 00:00  21-09-2016 16:25        2.0   \n",
       "1      ANSL_66892  21-11-2013 00:00  27-12-2018 17:47        1.0   \n",
       "2      ANSL_69750  28-09-2014 00:00  19-10-2016 08:24        NaN   \n",
       "3      ANSL_71623  31-12-2016 00:00  25-01-2019 18:30        1.0   \n",
       "4      ANSL_57969  28-09-2017 00:00  19-11-2017 09:38        2.0   \n",
       "...           ...               ...               ...        ...   \n",
       "18829  ANSL_51738  26-01-2017 00:00  09-03-2018 15:35        2.0   \n",
       "18830  ANSL_59900  18-06-2016 00:00  09-07-2017 08:37        NaN   \n",
       "18831  ANSL_53210  21-07-2010 00:00  22-08-2018 14:27        0.0   \n",
       "18832  ANSL_63468  12-05-2017 00:00  08-02-2018 14:05        0.0   \n",
       "18833  ANSL_73558  13-12-2011 00:00  26-10-2018 14:18        0.0   \n",
       "\n",
       "         color_type  length(m)  height(cm)  X1  X2  breed_category  \\\n",
       "0       Brown Tabby       0.80        7.78  13   9               0   \n",
       "1             White       0.72       14.19  13   9               0   \n",
       "2             Brown       0.15       40.90  15   4               2   \n",
       "3             White       0.62       17.82   0   1               0   \n",
       "4             Black       0.50       11.06  18   4               0   \n",
       "...             ...        ...         ...  ..  ..             ...   \n",
       "18829      Tricolor       0.44       27.36   0   1               0   \n",
       "18830         Brown       0.73       14.25  15   4               2   \n",
       "18831  Calico Point       0.99       28.13  13   9               1   \n",
       "18832           Tan       0.55       44.82  13   9               1   \n",
       "18833         Brown       0.86       37.40   0   1               1   \n",
       "\n",
       "       pet_category  \n",
       "0                 1  \n",
       "1                 2  \n",
       "2                 4  \n",
       "3                 2  \n",
       "4                 1  \n",
       "...             ...  \n",
       "18829             2  \n",
       "18830             4  \n",
       "18831             1  \n",
       "18832             2  \n",
       "18833             2  \n",
       "\n",
       "[18834 rows x 11 columns]"
      ]
     },
     "execution_count": 4,
     "metadata": {},
     "output_type": "execute_result"
    }
   ],
   "source": [
    "#train data\n",
    "train"
   ]
  },
  {
   "cell_type": "code",
   "execution_count": 5,
   "metadata": {},
   "outputs": [
    {
     "data": {
      "text/html": [
       "<div>\n",
       "<style scoped>\n",
       "    .dataframe tbody tr th:only-of-type {\n",
       "        vertical-align: middle;\n",
       "    }\n",
       "\n",
       "    .dataframe tbody tr th {\n",
       "        vertical-align: top;\n",
       "    }\n",
       "\n",
       "    .dataframe thead th {\n",
       "        text-align: right;\n",
       "    }\n",
       "</style>\n",
       "<table border=\"1\" class=\"dataframe\">\n",
       "  <thead>\n",
       "    <tr style=\"text-align: right;\">\n",
       "      <th></th>\n",
       "      <th>pet_id</th>\n",
       "      <th>issue_date</th>\n",
       "      <th>listing_date</th>\n",
       "      <th>condition</th>\n",
       "      <th>color_type</th>\n",
       "      <th>length(m)</th>\n",
       "      <th>height(cm)</th>\n",
       "      <th>X1</th>\n",
       "      <th>X2</th>\n",
       "    </tr>\n",
       "  </thead>\n",
       "  <tbody>\n",
       "    <tr>\n",
       "      <td>0</td>\n",
       "      <td>ANSL_75005</td>\n",
       "      <td>2005-08-17 00:00:00</td>\n",
       "      <td>2017-09-07 15:35:00</td>\n",
       "      <td>0.0</td>\n",
       "      <td>Black</td>\n",
       "      <td>0.87</td>\n",
       "      <td>42.73</td>\n",
       "      <td>0</td>\n",
       "      <td>7</td>\n",
       "    </tr>\n",
       "    <tr>\n",
       "      <td>1</td>\n",
       "      <td>ANSL_76663</td>\n",
       "      <td>2018-11-15 00:00:00</td>\n",
       "      <td>2019-05-08 17:24:00</td>\n",
       "      <td>1.0</td>\n",
       "      <td>Orange Tabby</td>\n",
       "      <td>0.06</td>\n",
       "      <td>6.71</td>\n",
       "      <td>0</td>\n",
       "      <td>1</td>\n",
       "    </tr>\n",
       "    <tr>\n",
       "      <td>2</td>\n",
       "      <td>ANSL_58259</td>\n",
       "      <td>2012-10-11 00:00:00</td>\n",
       "      <td>2018-04-02 16:51:00</td>\n",
       "      <td>1.0</td>\n",
       "      <td>Black</td>\n",
       "      <td>0.24</td>\n",
       "      <td>41.21</td>\n",
       "      <td>0</td>\n",
       "      <td>7</td>\n",
       "    </tr>\n",
       "    <tr>\n",
       "      <td>3</td>\n",
       "      <td>ANSL_67171</td>\n",
       "      <td>2015-02-13 00:00:00</td>\n",
       "      <td>2018-04-06 07:25:00</td>\n",
       "      <td>1.0</td>\n",
       "      <td>Black</td>\n",
       "      <td>0.29</td>\n",
       "      <td>8.46</td>\n",
       "      <td>7</td>\n",
       "      <td>1</td>\n",
       "    </tr>\n",
       "    <tr>\n",
       "      <td>4</td>\n",
       "      <td>ANSL_72871</td>\n",
       "      <td>2017-01-18 00:00:00</td>\n",
       "      <td>2018-04-26 13:42:00</td>\n",
       "      <td>1.0</td>\n",
       "      <td>Brown</td>\n",
       "      <td>0.71</td>\n",
       "      <td>30.92</td>\n",
       "      <td>0</td>\n",
       "      <td>7</td>\n",
       "    </tr>\n",
       "    <tr>\n",
       "      <td>...</td>\n",
       "      <td>...</td>\n",
       "      <td>...</td>\n",
       "      <td>...</td>\n",
       "      <td>...</td>\n",
       "      <td>...</td>\n",
       "      <td>...</td>\n",
       "      <td>...</td>\n",
       "      <td>...</td>\n",
       "      <td>...</td>\n",
       "    </tr>\n",
       "    <tr>\n",
       "      <td>8067</td>\n",
       "      <td>ANSL_66809</td>\n",
       "      <td>2016-02-10 00:00:00</td>\n",
       "      <td>2017-03-10 14:56:00</td>\n",
       "      <td>2.0</td>\n",
       "      <td>Brown</td>\n",
       "      <td>0.82</td>\n",
       "      <td>36.08</td>\n",
       "      <td>13</td>\n",
       "      <td>9</td>\n",
       "    </tr>\n",
       "    <tr>\n",
       "      <td>8068</td>\n",
       "      <td>ANSL_59041</td>\n",
       "      <td>2015-12-07 00:00:00</td>\n",
       "      <td>2018-02-12 00:00:00</td>\n",
       "      <td>0.0</td>\n",
       "      <td>Tan</td>\n",
       "      <td>0.49</td>\n",
       "      <td>27.54</td>\n",
       "      <td>13</td>\n",
       "      <td>9</td>\n",
       "    </tr>\n",
       "    <tr>\n",
       "      <td>8069</td>\n",
       "      <td>ANSL_60034</td>\n",
       "      <td>2015-12-08 00:00:00</td>\n",
       "      <td>2017-01-04 17:19:00</td>\n",
       "      <td>0.0</td>\n",
       "      <td>Black</td>\n",
       "      <td>0.98</td>\n",
       "      <td>37.19</td>\n",
       "      <td>0</td>\n",
       "      <td>7</td>\n",
       "    </tr>\n",
       "    <tr>\n",
       "      <td>8070</td>\n",
       "      <td>ANSL_58066</td>\n",
       "      <td>2016-06-28 00:00:00</td>\n",
       "      <td>2017-07-20 18:19:00</td>\n",
       "      <td>NaN</td>\n",
       "      <td>Black</td>\n",
       "      <td>0.79</td>\n",
       "      <td>23.83</td>\n",
       "      <td>0</td>\n",
       "      <td>2</td>\n",
       "    </tr>\n",
       "    <tr>\n",
       "      <td>8071</td>\n",
       "      <td>ANSL_69436</td>\n",
       "      <td>2016-02-02 00:00:00</td>\n",
       "      <td>2017-02-28 16:47:00</td>\n",
       "      <td>0.0</td>\n",
       "      <td>Black</td>\n",
       "      <td>0.64</td>\n",
       "      <td>24.51</td>\n",
       "      <td>0</td>\n",
       "      <td>1</td>\n",
       "    </tr>\n",
       "  </tbody>\n",
       "</table>\n",
       "<p>8072 rows × 9 columns</p>\n",
       "</div>"
      ],
      "text/plain": [
       "          pet_id           issue_date         listing_date  condition  \\\n",
       "0     ANSL_75005  2005-08-17 00:00:00  2017-09-07 15:35:00        0.0   \n",
       "1     ANSL_76663  2018-11-15 00:00:00  2019-05-08 17:24:00        1.0   \n",
       "2     ANSL_58259  2012-10-11 00:00:00  2018-04-02 16:51:00        1.0   \n",
       "3     ANSL_67171  2015-02-13 00:00:00  2018-04-06 07:25:00        1.0   \n",
       "4     ANSL_72871  2017-01-18 00:00:00  2018-04-26 13:42:00        1.0   \n",
       "...          ...                  ...                  ...        ...   \n",
       "8067  ANSL_66809  2016-02-10 00:00:00  2017-03-10 14:56:00        2.0   \n",
       "8068  ANSL_59041  2015-12-07 00:00:00  2018-02-12 00:00:00        0.0   \n",
       "8069  ANSL_60034  2015-12-08 00:00:00  2017-01-04 17:19:00        0.0   \n",
       "8070  ANSL_58066  2016-06-28 00:00:00  2017-07-20 18:19:00        NaN   \n",
       "8071  ANSL_69436  2016-02-02 00:00:00  2017-02-28 16:47:00        0.0   \n",
       "\n",
       "        color_type  length(m)  height(cm)  X1  X2  \n",
       "0            Black       0.87       42.73   0   7  \n",
       "1     Orange Tabby       0.06        6.71   0   1  \n",
       "2            Black       0.24       41.21   0   7  \n",
       "3            Black       0.29        8.46   7   1  \n",
       "4            Brown       0.71       30.92   0   7  \n",
       "...            ...        ...         ...  ..  ..  \n",
       "8067         Brown       0.82       36.08  13   9  \n",
       "8068           Tan       0.49       27.54  13   9  \n",
       "8069         Black       0.98       37.19   0   7  \n",
       "8070         Black       0.79       23.83   0   2  \n",
       "8071         Black       0.64       24.51   0   1  \n",
       "\n",
       "[8072 rows x 9 columns]"
      ]
     },
     "execution_count": 5,
     "metadata": {},
     "output_type": "execute_result"
    }
   ],
   "source": [
    "#test data\n",
    "test"
   ]
  },
  {
   "cell_type": "code",
   "execution_count": 6,
   "metadata": {},
   "outputs": [
    {
     "data": {
      "text/html": [
       "<div>\n",
       "<style scoped>\n",
       "    .dataframe tbody tr th:only-of-type {\n",
       "        vertical-align: middle;\n",
       "    }\n",
       "\n",
       "    .dataframe tbody tr th {\n",
       "        vertical-align: top;\n",
       "    }\n",
       "\n",
       "    .dataframe thead th {\n",
       "        text-align: right;\n",
       "    }\n",
       "</style>\n",
       "<table border=\"1\" class=\"dataframe\">\n",
       "  <thead>\n",
       "    <tr style=\"text-align: right;\">\n",
       "      <th></th>\n",
       "      <th>pet_id</th>\n",
       "      <th>issue_date</th>\n",
       "      <th>listing_date</th>\n",
       "      <th>condition</th>\n",
       "      <th>color_type</th>\n",
       "      <th>length(m)</th>\n",
       "      <th>height(cm)</th>\n",
       "      <th>X1</th>\n",
       "      <th>X2</th>\n",
       "    </tr>\n",
       "  </thead>\n",
       "  <tbody>\n",
       "    <tr>\n",
       "      <td>0</td>\n",
       "      <td>ANSL_69903</td>\n",
       "      <td>10-07-2016 00:00</td>\n",
       "      <td>21-09-2016 16:25</td>\n",
       "      <td>2.0</td>\n",
       "      <td>Brown Tabby</td>\n",
       "      <td>0.80</td>\n",
       "      <td>7.78</td>\n",
       "      <td>13</td>\n",
       "      <td>9</td>\n",
       "    </tr>\n",
       "    <tr>\n",
       "      <td>1</td>\n",
       "      <td>ANSL_66892</td>\n",
       "      <td>21-11-2013 00:00</td>\n",
       "      <td>27-12-2018 17:47</td>\n",
       "      <td>1.0</td>\n",
       "      <td>White</td>\n",
       "      <td>0.72</td>\n",
       "      <td>14.19</td>\n",
       "      <td>13</td>\n",
       "      <td>9</td>\n",
       "    </tr>\n",
       "    <tr>\n",
       "      <td>2</td>\n",
       "      <td>ANSL_69750</td>\n",
       "      <td>28-09-2014 00:00</td>\n",
       "      <td>19-10-2016 08:24</td>\n",
       "      <td>NaN</td>\n",
       "      <td>Brown</td>\n",
       "      <td>0.15</td>\n",
       "      <td>40.90</td>\n",
       "      <td>15</td>\n",
       "      <td>4</td>\n",
       "    </tr>\n",
       "    <tr>\n",
       "      <td>3</td>\n",
       "      <td>ANSL_71623</td>\n",
       "      <td>31-12-2016 00:00</td>\n",
       "      <td>25-01-2019 18:30</td>\n",
       "      <td>1.0</td>\n",
       "      <td>White</td>\n",
       "      <td>0.62</td>\n",
       "      <td>17.82</td>\n",
       "      <td>0</td>\n",
       "      <td>1</td>\n",
       "    </tr>\n",
       "    <tr>\n",
       "      <td>4</td>\n",
       "      <td>ANSL_57969</td>\n",
       "      <td>28-09-2017 00:00</td>\n",
       "      <td>19-11-2017 09:38</td>\n",
       "      <td>2.0</td>\n",
       "      <td>Black</td>\n",
       "      <td>0.50</td>\n",
       "      <td>11.06</td>\n",
       "      <td>18</td>\n",
       "      <td>4</td>\n",
       "    </tr>\n",
       "    <tr>\n",
       "      <td>...</td>\n",
       "      <td>...</td>\n",
       "      <td>...</td>\n",
       "      <td>...</td>\n",
       "      <td>...</td>\n",
       "      <td>...</td>\n",
       "      <td>...</td>\n",
       "      <td>...</td>\n",
       "      <td>...</td>\n",
       "      <td>...</td>\n",
       "    </tr>\n",
       "    <tr>\n",
       "      <td>18829</td>\n",
       "      <td>ANSL_51738</td>\n",
       "      <td>26-01-2017 00:00</td>\n",
       "      <td>09-03-2018 15:35</td>\n",
       "      <td>2.0</td>\n",
       "      <td>Tricolor</td>\n",
       "      <td>0.44</td>\n",
       "      <td>27.36</td>\n",
       "      <td>0</td>\n",
       "      <td>1</td>\n",
       "    </tr>\n",
       "    <tr>\n",
       "      <td>18830</td>\n",
       "      <td>ANSL_59900</td>\n",
       "      <td>18-06-2016 00:00</td>\n",
       "      <td>09-07-2017 08:37</td>\n",
       "      <td>NaN</td>\n",
       "      <td>Brown</td>\n",
       "      <td>0.73</td>\n",
       "      <td>14.25</td>\n",
       "      <td>15</td>\n",
       "      <td>4</td>\n",
       "    </tr>\n",
       "    <tr>\n",
       "      <td>18831</td>\n",
       "      <td>ANSL_53210</td>\n",
       "      <td>21-07-2010 00:00</td>\n",
       "      <td>22-08-2018 14:27</td>\n",
       "      <td>0.0</td>\n",
       "      <td>Calico Point</td>\n",
       "      <td>0.99</td>\n",
       "      <td>28.13</td>\n",
       "      <td>13</td>\n",
       "      <td>9</td>\n",
       "    </tr>\n",
       "    <tr>\n",
       "      <td>18832</td>\n",
       "      <td>ANSL_63468</td>\n",
       "      <td>12-05-2017 00:00</td>\n",
       "      <td>08-02-2018 14:05</td>\n",
       "      <td>0.0</td>\n",
       "      <td>Tan</td>\n",
       "      <td>0.55</td>\n",
       "      <td>44.82</td>\n",
       "      <td>13</td>\n",
       "      <td>9</td>\n",
       "    </tr>\n",
       "    <tr>\n",
       "      <td>18833</td>\n",
       "      <td>ANSL_73558</td>\n",
       "      <td>13-12-2011 00:00</td>\n",
       "      <td>26-10-2018 14:18</td>\n",
       "      <td>0.0</td>\n",
       "      <td>Brown</td>\n",
       "      <td>0.86</td>\n",
       "      <td>37.40</td>\n",
       "      <td>0</td>\n",
       "      <td>1</td>\n",
       "    </tr>\n",
       "  </tbody>\n",
       "</table>\n",
       "<p>18834 rows × 9 columns</p>\n",
       "</div>"
      ],
      "text/plain": [
       "           pet_id        issue_date      listing_date  condition  \\\n",
       "0      ANSL_69903  10-07-2016 00:00  21-09-2016 16:25        2.0   \n",
       "1      ANSL_66892  21-11-2013 00:00  27-12-2018 17:47        1.0   \n",
       "2      ANSL_69750  28-09-2014 00:00  19-10-2016 08:24        NaN   \n",
       "3      ANSL_71623  31-12-2016 00:00  25-01-2019 18:30        1.0   \n",
       "4      ANSL_57969  28-09-2017 00:00  19-11-2017 09:38        2.0   \n",
       "...           ...               ...               ...        ...   \n",
       "18829  ANSL_51738  26-01-2017 00:00  09-03-2018 15:35        2.0   \n",
       "18830  ANSL_59900  18-06-2016 00:00  09-07-2017 08:37        NaN   \n",
       "18831  ANSL_53210  21-07-2010 00:00  22-08-2018 14:27        0.0   \n",
       "18832  ANSL_63468  12-05-2017 00:00  08-02-2018 14:05        0.0   \n",
       "18833  ANSL_73558  13-12-2011 00:00  26-10-2018 14:18        0.0   \n",
       "\n",
       "         color_type  length(m)  height(cm)  X1  X2  \n",
       "0       Brown Tabby       0.80        7.78  13   9  \n",
       "1             White       0.72       14.19  13   9  \n",
       "2             Brown       0.15       40.90  15   4  \n",
       "3             White       0.62       17.82   0   1  \n",
       "4             Black       0.50       11.06  18   4  \n",
       "...             ...        ...         ...  ..  ..  \n",
       "18829      Tricolor       0.44       27.36   0   1  \n",
       "18830         Brown       0.73       14.25  15   4  \n",
       "18831  Calico Point       0.99       28.13  13   9  \n",
       "18832           Tan       0.55       44.82  13   9  \n",
       "18833         Brown       0.86       37.40   0   1  \n",
       "\n",
       "[18834 rows x 9 columns]"
      ]
     },
     "execution_count": 6,
     "metadata": {},
     "output_type": "execute_result"
    }
   ],
   "source": [
    "#droping the traget variable from the train data\n",
    "train.drop([\"breed_category\",\"pet_category\"], axis=1)\n"
   ]
  },
  {
   "cell_type": "code",
   "execution_count": 7,
   "metadata": {},
   "outputs": [
    {
     "data": {
      "text/plain": [
       "0       2016-10-07\n",
       "1       2013-11-21\n",
       "2       2014-09-28\n",
       "3       2016-12-31\n",
       "4       2017-09-28\n",
       "           ...    \n",
       "18829   2017-01-26\n",
       "18830   2016-06-18\n",
       "18831   2010-07-21\n",
       "18832   2017-12-05\n",
       "18833   2011-12-13\n",
       "Name: issue_date, Length: 18834, dtype: datetime64[ns]"
      ]
     },
     "execution_count": 7,
     "metadata": {},
     "output_type": "execute_result"
    }
   ],
   "source": [
    "#pd.to_datatime will give the yyyy/mm/dd hh:mm:ss format\n",
    "train[\"issue_date\"]=pd.to_datetime(train[\"issue_date\"])\n",
    "train['listing_date']=pd.to_datetime(train['listing_date'])\n",
    "train[\"issue_date\"]"
   ]
  },
  {
   "cell_type": "code",
   "execution_count": 8,
   "metadata": {},
   "outputs": [
    {
     "data": {
      "text/plain": [
       "0   2016-09-21 16:25:00\n",
       "1   2018-12-27 17:47:00\n",
       "2   2016-10-19 08:24:00\n",
       "3   2019-01-25 18:30:00\n",
       "4   2017-11-19 09:38:00\n",
       "Name: listing_date, dtype: datetime64[ns]"
      ]
     },
     "execution_count": 8,
     "metadata": {},
     "output_type": "execute_result"
    }
   ],
   "source": [
    "train['listing_date'].head()"
   ]
  },
  {
   "cell_type": "code",
   "execution_count": 9,
   "metadata": {},
   "outputs": [
    {
     "data": {
      "text/plain": [
       "0   2017-09-07 15:35:00\n",
       "1   2019-05-08 17:24:00\n",
       "2   2018-04-02 16:51:00\n",
       "3   2018-04-06 07:25:00\n",
       "4   2018-04-26 13:42:00\n",
       "Name: listing_date, dtype: datetime64[ns]"
      ]
     },
     "execution_count": 9,
     "metadata": {},
     "output_type": "execute_result"
    }
   ],
   "source": [
    "test[\"issue_date\"]=pd.to_datetime(test.issue_date)\n",
    "test[\"listing_date\"]=pd.to_datetime(test.listing_date)\n",
    "test[\"listing_date\"].head()"
   ]
  },
  {
   "cell_type": "code",
   "execution_count": 10,
   "metadata": {},
   "outputs": [
    {
     "data": {
      "text/html": [
       "<div>\n",
       "<style scoped>\n",
       "    .dataframe tbody tr th:only-of-type {\n",
       "        vertical-align: middle;\n",
       "    }\n",
       "\n",
       "    .dataframe tbody tr th {\n",
       "        vertical-align: top;\n",
       "    }\n",
       "\n",
       "    .dataframe thead th {\n",
       "        text-align: right;\n",
       "    }\n",
       "</style>\n",
       "<table border=\"1\" class=\"dataframe\">\n",
       "  <thead>\n",
       "    <tr style=\"text-align: right;\">\n",
       "      <th></th>\n",
       "      <th>condition</th>\n",
       "      <th>color_type</th>\n",
       "      <th>length(m)</th>\n",
       "      <th>height(cm)</th>\n",
       "      <th>X1</th>\n",
       "      <th>X2</th>\n",
       "      <th>duration</th>\n",
       "    </tr>\n",
       "  </thead>\n",
       "  <tbody>\n",
       "    <tr>\n",
       "      <td>0</td>\n",
       "      <td>2.0</td>\n",
       "      <td>Brown Tabby</td>\n",
       "      <td>0.80</td>\n",
       "      <td>7.78</td>\n",
       "      <td>13</td>\n",
       "      <td>9</td>\n",
       "      <td>-16</td>\n",
       "    </tr>\n",
       "    <tr>\n",
       "      <td>1</td>\n",
       "      <td>1.0</td>\n",
       "      <td>White</td>\n",
       "      <td>0.72</td>\n",
       "      <td>14.19</td>\n",
       "      <td>13</td>\n",
       "      <td>9</td>\n",
       "      <td>1862</td>\n",
       "    </tr>\n",
       "    <tr>\n",
       "      <td>2</td>\n",
       "      <td>NaN</td>\n",
       "      <td>Brown</td>\n",
       "      <td>0.15</td>\n",
       "      <td>40.90</td>\n",
       "      <td>15</td>\n",
       "      <td>4</td>\n",
       "      <td>752</td>\n",
       "    </tr>\n",
       "    <tr>\n",
       "      <td>3</td>\n",
       "      <td>1.0</td>\n",
       "      <td>White</td>\n",
       "      <td>0.62</td>\n",
       "      <td>17.82</td>\n",
       "      <td>0</td>\n",
       "      <td>1</td>\n",
       "      <td>755</td>\n",
       "    </tr>\n",
       "    <tr>\n",
       "      <td>4</td>\n",
       "      <td>2.0</td>\n",
       "      <td>Black</td>\n",
       "      <td>0.50</td>\n",
       "      <td>11.06</td>\n",
       "      <td>18</td>\n",
       "      <td>4</td>\n",
       "      <td>52</td>\n",
       "    </tr>\n",
       "    <tr>\n",
       "      <td>...</td>\n",
       "      <td>...</td>\n",
       "      <td>...</td>\n",
       "      <td>...</td>\n",
       "      <td>...</td>\n",
       "      <td>...</td>\n",
       "      <td>...</td>\n",
       "      <td>...</td>\n",
       "    </tr>\n",
       "    <tr>\n",
       "      <td>8067</td>\n",
       "      <td>2.0</td>\n",
       "      <td>Brown</td>\n",
       "      <td>0.82</td>\n",
       "      <td>36.08</td>\n",
       "      <td>13</td>\n",
       "      <td>9</td>\n",
       "      <td>394</td>\n",
       "    </tr>\n",
       "    <tr>\n",
       "      <td>8068</td>\n",
       "      <td>0.0</td>\n",
       "      <td>Tan</td>\n",
       "      <td>0.49</td>\n",
       "      <td>27.54</td>\n",
       "      <td>13</td>\n",
       "      <td>9</td>\n",
       "      <td>798</td>\n",
       "    </tr>\n",
       "    <tr>\n",
       "      <td>8069</td>\n",
       "      <td>0.0</td>\n",
       "      <td>Black</td>\n",
       "      <td>0.98</td>\n",
       "      <td>37.19</td>\n",
       "      <td>0</td>\n",
       "      <td>7</td>\n",
       "      <td>393</td>\n",
       "    </tr>\n",
       "    <tr>\n",
       "      <td>8070</td>\n",
       "      <td>NaN</td>\n",
       "      <td>Black</td>\n",
       "      <td>0.79</td>\n",
       "      <td>23.83</td>\n",
       "      <td>0</td>\n",
       "      <td>2</td>\n",
       "      <td>387</td>\n",
       "    </tr>\n",
       "    <tr>\n",
       "      <td>8071</td>\n",
       "      <td>0.0</td>\n",
       "      <td>Black</td>\n",
       "      <td>0.64</td>\n",
       "      <td>24.51</td>\n",
       "      <td>0</td>\n",
       "      <td>1</td>\n",
       "      <td>392</td>\n",
       "    </tr>\n",
       "  </tbody>\n",
       "</table>\n",
       "<p>26906 rows × 7 columns</p>\n",
       "</div>"
      ],
      "text/plain": [
       "      condition   color_type  length(m)  height(cm)  X1  X2  duration\n",
       "0           2.0  Brown Tabby       0.80        7.78  13   9       -16\n",
       "1           1.0        White       0.72       14.19  13   9      1862\n",
       "2           NaN        Brown       0.15       40.90  15   4       752\n",
       "3           1.0        White       0.62       17.82   0   1       755\n",
       "4           2.0        Black       0.50       11.06  18   4        52\n",
       "...         ...          ...        ...         ...  ..  ..       ...\n",
       "8067        2.0        Brown       0.82       36.08  13   9       394\n",
       "8068        0.0          Tan       0.49       27.54  13   9       798\n",
       "8069        0.0        Black       0.98       37.19   0   7       393\n",
       "8070        NaN        Black       0.79       23.83   0   2       387\n",
       "8071        0.0        Black       0.64       24.51   0   1       392\n",
       "\n",
       "[26906 rows x 7 columns]"
      ]
     },
     "execution_count": 10,
     "metadata": {},
     "output_type": "execute_result"
    }
   ],
   "source": [
    "#1 concating the train and test after droping the target variables\n",
    "#2 applying the pd.to_datetime to the date related columns\n",
    "#3 sepracting the issue_date from the listing_date in order to get the duration\n",
    "dataset=pd.concat([train.drop([\"breed_category\",\"pet_category\"],axis=1),test])\n",
    "dataset['issue_date']=pd.to_datetime(dataset[\"issue_date\"])\n",
    "dataset[\"listing_date\"] = pd.to_datetime(dataset[\"listing_date\"])\n",
    "dataset['duration']=(dataset[\"listing_date\"]-dataset['issue_date']).dt.days\n",
    "dataset=dataset.drop([\"pet_id\",\"issue_date\",\"listing_date\"],axis=1)\n",
    "dataset"
   ]
  },
  {
   "cell_type": "code",
   "execution_count": 11,
   "metadata": {},
   "outputs": [
    {
     "data": {
      "text/html": [
       "<div>\n",
       "<style scoped>\n",
       "    .dataframe tbody tr th:only-of-type {\n",
       "        vertical-align: middle;\n",
       "    }\n",
       "\n",
       "    .dataframe tbody tr th {\n",
       "        vertical-align: top;\n",
       "    }\n",
       "\n",
       "    .dataframe thead th {\n",
       "        text-align: right;\n",
       "    }\n",
       "</style>\n",
       "<table border=\"1\" class=\"dataframe\">\n",
       "  <thead>\n",
       "    <tr style=\"text-align: right;\">\n",
       "      <th></th>\n",
       "      <th>length(m)</th>\n",
       "      <th>height(cm)</th>\n",
       "      <th>duration</th>\n",
       "    </tr>\n",
       "  </thead>\n",
       "  <tbody>\n",
       "    <tr>\n",
       "      <td>0</td>\n",
       "      <td>0.25</td>\n",
       "      <td>16.21</td>\n",
       "      <td>143.0</td>\n",
       "    </tr>\n",
       "    <tr>\n",
       "      <td>1</td>\n",
       "      <td>0.50</td>\n",
       "      <td>27.36</td>\n",
       "      <td>402.0</td>\n",
       "    </tr>\n",
       "    <tr>\n",
       "      <td>2</td>\n",
       "      <td>0.76</td>\n",
       "      <td>38.78</td>\n",
       "      <td>1083.0</td>\n",
       "    </tr>\n",
       "  </tbody>\n",
       "</table>\n",
       "</div>"
      ],
      "text/plain": [
       "   length(m)  height(cm)  duration\n",
       "0       0.25       16.21     143.0\n",
       "1       0.50       27.36     402.0\n",
       "2       0.76       38.78    1083.0"
      ]
     },
     "execution_count": 11,
     "metadata": {},
     "output_type": "execute_result"
    }
   ],
   "source": [
    "#here we creating the info dataset with help of qurdents of the three variables which gives the information of the three columns \n",
    "info = pd.DataFrame()\n",
    "info['length(m)'] = [np.percentile(dataset['length(m)'],25*i) for i in range(1,4)]\n",
    "info['height(cm)'] = [np.percentile(dataset['height(cm)'],25*i) for i in range(1,4)]\n",
    "info['duration'] = [np.percentile(dataset['duration'],25*i) for i in range(1,4)]\n",
    "info\n",
    "\n"
   ]
  },
  {
   "cell_type": "code",
   "execution_count": 12,
   "metadata": {},
   "outputs": [
    {
     "data": {
      "text/html": [
       "<div>\n",
       "<style scoped>\n",
       "    .dataframe tbody tr th:only-of-type {\n",
       "        vertical-align: middle;\n",
       "    }\n",
       "\n",
       "    .dataframe tbody tr th {\n",
       "        vertical-align: top;\n",
       "    }\n",
       "\n",
       "    .dataframe thead th {\n",
       "        text-align: right;\n",
       "    }\n",
       "</style>\n",
       "<table border=\"1\" class=\"dataframe\">\n",
       "  <thead>\n",
       "    <tr style=\"text-align: right;\">\n",
       "      <th></th>\n",
       "      <th>length(m)</th>\n",
       "      <th>height(cm)</th>\n",
       "      <th>duration</th>\n",
       "    </tr>\n",
       "  </thead>\n",
       "  <tbody>\n",
       "    <tr>\n",
       "      <td>0</td>\n",
       "      <td>0.250</td>\n",
       "      <td>16.210</td>\n",
       "      <td>143.0</td>\n",
       "    </tr>\n",
       "    <tr>\n",
       "      <td>1</td>\n",
       "      <td>0.500</td>\n",
       "      <td>27.360</td>\n",
       "      <td>402.0</td>\n",
       "    </tr>\n",
       "    <tr>\n",
       "      <td>2</td>\n",
       "      <td>0.760</td>\n",
       "      <td>38.780</td>\n",
       "      <td>1083.0</td>\n",
       "    </tr>\n",
       "    <tr>\n",
       "      <td>3</td>\n",
       "      <td>-0.515</td>\n",
       "      <td>-17.645</td>\n",
       "      <td>-1267.0</td>\n",
       "    </tr>\n",
       "    <tr>\n",
       "      <td>4</td>\n",
       "      <td>1.525</td>\n",
       "      <td>72.635</td>\n",
       "      <td>2493.0</td>\n",
       "    </tr>\n",
       "  </tbody>\n",
       "</table>\n",
       "</div>"
      ],
      "text/plain": [
       "   length(m)  height(cm)  duration\n",
       "0      0.250      16.210     143.0\n",
       "1      0.500      27.360     402.0\n",
       "2      0.760      38.780    1083.0\n",
       "3     -0.515     -17.645   -1267.0\n",
       "4      1.525      72.635    2493.0"
      ]
     },
     "execution_count": 12,
     "metadata": {},
     "output_type": "execute_result"
    }
   ],
   "source": [
    "#here we creating two more rows for treating the outliers \n",
    "#for low outliers Q1 - 1.5 (IQR)Q3 + 1.5 IQR\n",
    "#Q1 - 1.5 (Q3-Q1) or Q3 + 1.5 (Q3-Q1)\n",
    "#2.5 Q1 - 1.5 Q3 or 2.5 Q3 - 1.5 Q1\n",
    "info.loc[3]=[2.5*info.loc[0,column]-1.5*info.loc[2,column] for column in info.columns]\n",
    "info.loc[4]=[2.5*info.loc[2,column]-1.5*info.loc[0,column] for column in info.columns]\n",
    "info"
   ]
  },
  {
   "cell_type": "code",
   "execution_count": 13,
   "metadata": {},
   "outputs": [],
   "source": [
    "#creating a function to alloting the values which are in specific range\n",
    "def range_part(column,value):\n",
    "    if value > info.loc[4,column]:\n",
    "        return 5\n",
    "    elif value > info.loc[2,column]:\n",
    "        return 4\n",
    "    elif value > info.loc[1,column]:\n",
    "        return 3\n",
    "    elif value > info.loc[0,column]:\n",
    "        return 2\n",
    "    elif value > info.loc[3,column]:\n",
    "        return 1\n",
    "    else:\n",
    "        return 0"
   ]
  },
  {
   "cell_type": "code",
   "execution_count": 14,
   "metadata": {},
   "outputs": [
    {
     "data": {
      "text/plain": [
       "condition     float64\n",
       "color_type     object\n",
       "length(m)     float64\n",
       "height(cm)    float64\n",
       "X1              int64\n",
       "X2              int64\n",
       "duration        int64\n",
       "dtype: object"
      ]
     },
     "execution_count": 14,
     "metadata": {},
     "output_type": "execute_result"
    }
   ],
   "source": [
    "#datatype of variables\n",
    "dataset.dtypes"
   ]
  },
  {
   "cell_type": "code",
   "execution_count": null,
   "metadata": {},
   "outputs": [],
   "source": []
  },
  {
   "cell_type": "code",
   "execution_count": 15,
   "metadata": {},
   "outputs": [
    {
     "data": {
      "text/plain": [
       "Index(['condition', 'length(m)', 'height(cm)', 'X1', 'X2', 'duration'], dtype='object')"
      ]
     },
     "execution_count": 15,
     "metadata": {},
     "output_type": "execute_result"
    }
   ],
   "source": [
    "#creating a list with non object datatypes\n",
    "numerical = dataset.dtypes[dataset.dtypes != object].index\n",
    "numerical"
   ]
  },
  {
   "cell_type": "code",
   "execution_count": 16,
   "metadata": {},
   "outputs": [
    {
     "data": {
      "text/plain": [
       "<matplotlib.axes._subplots.AxesSubplot at 0x1c36a5f4108>"
      ]
     },
     "execution_count": 16,
     "metadata": {},
     "output_type": "execute_result"
    },
    {
     "data": {
      "image/png": "[encoded data removed]",
      "text/plain": [
       "<Figure size 432x288 with 1 Axes>"
      ]
     },
     "metadata": {
      "needs_background": "light"
     },
     "output_type": "display_data"
    }
   ],
   "source": [
    "#ploting the condition variable\n",
    "dataset['condition'].value_counts().plot(kind='barh')"
   ]
  },
  {
   "cell_type": "code",
   "execution_count": 17,
   "metadata": {},
   "outputs": [
    {
     "data": {
      "image/png": "[encoded data removed]",
      "text/plain": [
       "<Figure size 720x720 with 6 Axes>"
      ]
     },
     "metadata": {
      "needs_background": "light"
     },
     "output_type": "display_data"
    }
   ],
   "source": [
    "#creating the boxplots with non object datatypes\n",
    "\n",
    "import matplotlib.pyplot as plt\n",
    "fig, ax = plt.subplots(2,3,figsize=(10,10))\n",
    "\n",
    "for i in range(3):\n",
    "    dataset.boxplot(column=list(numerical)[i], ax=ax[0,i])\n",
    "    ax[0,i].title.set_text(numerical[i])\n",
    "\n",
    "for i in range(3):\n",
    "    dataset.boxplot(column=list(numerical)[i+3], ax=ax[1,i])\n",
    "    ax[1,i].title.set_text(numerical[3+i])"
   ]
  },
  {
   "cell_type": "code",
   "execution_count": 18,
   "metadata": {},
   "outputs": [
    {
     "name": "stderr",
     "output_type": "stream",
     "text": [
      "C:\\ProgramData\\Anaconda3\\lib\\site-packages\\tqdm\\std.py:648: FutureWarning: The Panel class is removed from pandas. Accessing it from the top-level namespace will also be removed in the next version\n",
      "  from pandas import Panel\n",
      "100%|██████████| 26906/26906 [00:01<00:00, 19174.65it/s]\n",
      "100%|██████████| 26906/26906 [00:01<00:00, 21764.01it/s]\n",
      "100%|██████████| 26906/26906 [00:01<00:00, 21129.41it/s]\n"
     ]
    },
    {
     "data": {
      "text/html": [
       "<div>\n",
       "<style scoped>\n",
       "    .dataframe tbody tr th:only-of-type {\n",
       "        vertical-align: middle;\n",
       "    }\n",
       "\n",
       "    .dataframe tbody tr th {\n",
       "        vertical-align: top;\n",
       "    }\n",
       "\n",
       "    .dataframe thead th {\n",
       "        text-align: right;\n",
       "    }\n",
       "</style>\n",
       "<table border=\"1\" class=\"dataframe\">\n",
       "  <thead>\n",
       "    <tr style=\"text-align: right;\">\n",
       "      <th></th>\n",
       "      <th>condition</th>\n",
       "      <th>color_type</th>\n",
       "      <th>length(m)</th>\n",
       "      <th>height(cm)</th>\n",
       "      <th>X1</th>\n",
       "      <th>X2</th>\n",
       "      <th>duration</th>\n",
       "      <th>length_range</th>\n",
       "      <th>height_range</th>\n",
       "      <th>duration_range</th>\n",
       "    </tr>\n",
       "  </thead>\n",
       "  <tbody>\n",
       "    <tr>\n",
       "      <td>0</td>\n",
       "      <td>2.0</td>\n",
       "      <td>Brown Tabby</td>\n",
       "      <td>0.80</td>\n",
       "      <td>7.78</td>\n",
       "      <td>13</td>\n",
       "      <td>9</td>\n",
       "      <td>-16</td>\n",
       "      <td>4</td>\n",
       "      <td>1</td>\n",
       "      <td>1</td>\n",
       "    </tr>\n",
       "    <tr>\n",
       "      <td>1</td>\n",
       "      <td>1.0</td>\n",
       "      <td>White</td>\n",
       "      <td>0.72</td>\n",
       "      <td>14.19</td>\n",
       "      <td>13</td>\n",
       "      <td>9</td>\n",
       "      <td>1862</td>\n",
       "      <td>3</td>\n",
       "      <td>1</td>\n",
       "      <td>4</td>\n",
       "    </tr>\n",
       "    <tr>\n",
       "      <td>2</td>\n",
       "      <td>NaN</td>\n",
       "      <td>Brown</td>\n",
       "      <td>0.15</td>\n",
       "      <td>40.90</td>\n",
       "      <td>15</td>\n",
       "      <td>4</td>\n",
       "      <td>752</td>\n",
       "      <td>1</td>\n",
       "      <td>4</td>\n",
       "      <td>3</td>\n",
       "    </tr>\n",
       "    <tr>\n",
       "      <td>3</td>\n",
       "      <td>1.0</td>\n",
       "      <td>White</td>\n",
       "      <td>0.62</td>\n",
       "      <td>17.82</td>\n",
       "      <td>0</td>\n",
       "      <td>1</td>\n",
       "      <td>755</td>\n",
       "      <td>3</td>\n",
       "      <td>2</td>\n",
       "      <td>3</td>\n",
       "    </tr>\n",
       "    <tr>\n",
       "      <td>4</td>\n",
       "      <td>2.0</td>\n",
       "      <td>Black</td>\n",
       "      <td>0.50</td>\n",
       "      <td>11.06</td>\n",
       "      <td>18</td>\n",
       "      <td>4</td>\n",
       "      <td>52</td>\n",
       "      <td>2</td>\n",
       "      <td>1</td>\n",
       "      <td>1</td>\n",
       "    </tr>\n",
       "    <tr>\n",
       "      <td>...</td>\n",
       "      <td>...</td>\n",
       "      <td>...</td>\n",
       "      <td>...</td>\n",
       "      <td>...</td>\n",
       "      <td>...</td>\n",
       "      <td>...</td>\n",
       "      <td>...</td>\n",
       "      <td>...</td>\n",
       "      <td>...</td>\n",
       "      <td>...</td>\n",
       "    </tr>\n",
       "    <tr>\n",
       "      <td>8067</td>\n",
       "      <td>2.0</td>\n",
       "      <td>Brown</td>\n",
       "      <td>0.82</td>\n",
       "      <td>36.08</td>\n",
       "      <td>13</td>\n",
       "      <td>9</td>\n",
       "      <td>394</td>\n",
       "      <td>4</td>\n",
       "      <td>3</td>\n",
       "      <td>2</td>\n",
       "    </tr>\n",
       "    <tr>\n",
       "      <td>8068</td>\n",
       "      <td>0.0</td>\n",
       "      <td>Tan</td>\n",
       "      <td>0.49</td>\n",
       "      <td>27.54</td>\n",
       "      <td>13</td>\n",
       "      <td>9</td>\n",
       "      <td>798</td>\n",
       "      <td>2</td>\n",
       "      <td>3</td>\n",
       "      <td>3</td>\n",
       "    </tr>\n",
       "    <tr>\n",
       "      <td>8069</td>\n",
       "      <td>0.0</td>\n",
       "      <td>Black</td>\n",
       "      <td>0.98</td>\n",
       "      <td>37.19</td>\n",
       "      <td>0</td>\n",
       "      <td>7</td>\n",
       "      <td>393</td>\n",
       "      <td>4</td>\n",
       "      <td>3</td>\n",
       "      <td>2</td>\n",
       "    </tr>\n",
       "    <tr>\n",
       "      <td>8070</td>\n",
       "      <td>NaN</td>\n",
       "      <td>Black</td>\n",
       "      <td>0.79</td>\n",
       "      <td>23.83</td>\n",
       "      <td>0</td>\n",
       "      <td>2</td>\n",
       "      <td>387</td>\n",
       "      <td>4</td>\n",
       "      <td>2</td>\n",
       "      <td>2</td>\n",
       "    </tr>\n",
       "    <tr>\n",
       "      <td>8071</td>\n",
       "      <td>0.0</td>\n",
       "      <td>Black</td>\n",
       "      <td>0.64</td>\n",
       "      <td>24.51</td>\n",
       "      <td>0</td>\n",
       "      <td>1</td>\n",
       "      <td>392</td>\n",
       "      <td>3</td>\n",
       "      <td>2</td>\n",
       "      <td>2</td>\n",
       "    </tr>\n",
       "  </tbody>\n",
       "</table>\n",
       "<p>26906 rows × 10 columns</p>\n",
       "</div>"
      ],
      "text/plain": [
       "      condition   color_type  length(m)  height(cm)  X1  X2  duration  \\\n",
       "0           2.0  Brown Tabby       0.80        7.78  13   9       -16   \n",
       "1           1.0        White       0.72       14.19  13   9      1862   \n",
       "2           NaN        Brown       0.15       40.90  15   4       752   \n",
       "3           1.0        White       0.62       17.82   0   1       755   \n",
       "4           2.0        Black       0.50       11.06  18   4        52   \n",
       "...         ...          ...        ...         ...  ..  ..       ...   \n",
       "8067        2.0        Brown       0.82       36.08  13   9       394   \n",
       "8068        0.0          Tan       0.49       27.54  13   9       798   \n",
       "8069        0.0        Black       0.98       37.19   0   7       393   \n",
       "8070        NaN        Black       0.79       23.83   0   2       387   \n",
       "8071        0.0        Black       0.64       24.51   0   1       392   \n",
       "\n",
       "      length_range  height_range  duration_range  \n",
       "0                4             1               1  \n",
       "1                3             1               4  \n",
       "2                1             4               3  \n",
       "3                3             2               3  \n",
       "4                2             1               1  \n",
       "...            ...           ...             ...  \n",
       "8067             4             3               2  \n",
       "8068             2             3               3  \n",
       "8069             4             3               2  \n",
       "8070             4             2               2  \n",
       "8071             3             2               2  \n",
       "\n",
       "[26906 rows x 10 columns]"
      ]
     },
     "execution_count": 18,
     "metadata": {},
     "output_type": "execute_result"
    }
   ],
   "source": [
    "#tqdm is a library used for iteration and creating progress bar\n",
    "#in the progress bar we replace the values with help of lambda and function(range_part)\n",
    "from tqdm import tqdm\n",
    "tqdm.pandas()\n",
    "dataset['length_range'] = dataset['length(m)'].progress_apply(lambda x:range_part('length(m)',x))\n",
    "dataset['height_range'] = dataset['height(cm)'].progress_apply(lambda x:range_part('height(cm)',x))\n",
    "dataset['duration_range'] = dataset['duration'].progress_apply(lambda x:range_part('duration',x))\n",
    "dataset"
   ]
  },
  {
   "cell_type": "code",
   "execution_count": 19,
   "metadata": {},
   "outputs": [
    {
     "data": {
      "text/html": [
       "<div>\n",
       "<style scoped>\n",
       "    .dataframe tbody tr th:only-of-type {\n",
       "        vertical-align: middle;\n",
       "    }\n",
       "\n",
       "    .dataframe tbody tr th {\n",
       "        vertical-align: top;\n",
       "    }\n",
       "\n",
       "    .dataframe thead th {\n",
       "        text-align: right;\n",
       "    }\n",
       "</style>\n",
       "<table border=\"1\" class=\"dataframe\">\n",
       "  <thead>\n",
       "    <tr style=\"text-align: right;\">\n",
       "      <th></th>\n",
       "      <th>condition</th>\n",
       "      <th>length_range</th>\n",
       "      <th>height_range</th>\n",
       "      <th>duration_range</th>\n",
       "      <th>color_number</th>\n",
       "      <th>X1</th>\n",
       "      <th>X2</th>\n",
       "    </tr>\n",
       "  </thead>\n",
       "  <tbody>\n",
       "    <tr>\n",
       "      <td>0</td>\n",
       "      <td>2.0</td>\n",
       "      <td>4</td>\n",
       "      <td>1</td>\n",
       "      <td>1</td>\n",
       "      <td>18</td>\n",
       "      <td>13</td>\n",
       "      <td>9</td>\n",
       "    </tr>\n",
       "    <tr>\n",
       "      <td>1</td>\n",
       "      <td>1.0</td>\n",
       "      <td>3</td>\n",
       "      <td>1</td>\n",
       "      <td>4</td>\n",
       "      <td>53</td>\n",
       "      <td>13</td>\n",
       "      <td>9</td>\n",
       "    </tr>\n",
       "    <tr>\n",
       "      <td>2</td>\n",
       "      <td>-1.0</td>\n",
       "      <td>1</td>\n",
       "      <td>4</td>\n",
       "      <td>3</td>\n",
       "      <td>15</td>\n",
       "      <td>15</td>\n",
       "      <td>4</td>\n",
       "    </tr>\n",
       "    <tr>\n",
       "      <td>3</td>\n",
       "      <td>1.0</td>\n",
       "      <td>3</td>\n",
       "      <td>2</td>\n",
       "      <td>3</td>\n",
       "      <td>53</td>\n",
       "      <td>0</td>\n",
       "      <td>1</td>\n",
       "    </tr>\n",
       "    <tr>\n",
       "      <td>4</td>\n",
       "      <td>2.0</td>\n",
       "      <td>2</td>\n",
       "      <td>1</td>\n",
       "      <td>1</td>\n",
       "      <td>2</td>\n",
       "      <td>18</td>\n",
       "      <td>4</td>\n",
       "    </tr>\n",
       "    <tr>\n",
       "      <td>...</td>\n",
       "      <td>...</td>\n",
       "      <td>...</td>\n",
       "      <td>...</td>\n",
       "      <td>...</td>\n",
       "      <td>...</td>\n",
       "      <td>...</td>\n",
       "      <td>...</td>\n",
       "    </tr>\n",
       "    <tr>\n",
       "      <td>8067</td>\n",
       "      <td>2.0</td>\n",
       "      <td>4</td>\n",
       "      <td>3</td>\n",
       "      <td>2</td>\n",
       "      <td>15</td>\n",
       "      <td>13</td>\n",
       "      <td>9</td>\n",
       "    </tr>\n",
       "    <tr>\n",
       "      <td>8068</td>\n",
       "      <td>0.0</td>\n",
       "      <td>2</td>\n",
       "      <td>3</td>\n",
       "      <td>3</td>\n",
       "      <td>48</td>\n",
       "      <td>13</td>\n",
       "      <td>9</td>\n",
       "    </tr>\n",
       "    <tr>\n",
       "      <td>8069</td>\n",
       "      <td>0.0</td>\n",
       "      <td>4</td>\n",
       "      <td>3</td>\n",
       "      <td>2</td>\n",
       "      <td>2</td>\n",
       "      <td>0</td>\n",
       "      <td>7</td>\n",
       "    </tr>\n",
       "    <tr>\n",
       "      <td>8070</td>\n",
       "      <td>-1.0</td>\n",
       "      <td>4</td>\n",
       "      <td>2</td>\n",
       "      <td>2</td>\n",
       "      <td>2</td>\n",
       "      <td>0</td>\n",
       "      <td>2</td>\n",
       "    </tr>\n",
       "    <tr>\n",
       "      <td>8071</td>\n",
       "      <td>0.0</td>\n",
       "      <td>3</td>\n",
       "      <td>2</td>\n",
       "      <td>2</td>\n",
       "      <td>2</td>\n",
       "      <td>0</td>\n",
       "      <td>1</td>\n",
       "    </tr>\n",
       "  </tbody>\n",
       "</table>\n",
       "<p>26906 rows × 7 columns</p>\n",
       "</div>"
      ],
      "text/plain": [
       "      condition  length_range  height_range  duration_range  color_number  X1  \\\n",
       "0           2.0             4             1               1            18  13   \n",
       "1           1.0             3             1               4            53  13   \n",
       "2          -1.0             1             4               3            15  15   \n",
       "3           1.0             3             2               3            53   0   \n",
       "4           2.0             2             1               1             2  18   \n",
       "...         ...           ...           ...             ...           ...  ..   \n",
       "8067        2.0             4             3               2            15  13   \n",
       "8068        0.0             2             3               3            48  13   \n",
       "8069        0.0             4             3               2             2   0   \n",
       "8070       -1.0             4             2               2             2   0   \n",
       "8071        0.0             3             2               2             2   0   \n",
       "\n",
       "      X2  \n",
       "0      9  \n",
       "1      9  \n",
       "2      4  \n",
       "3      1  \n",
       "4      4  \n",
       "...   ..  \n",
       "8067   9  \n",
       "8068   9  \n",
       "8069   7  \n",
       "8070   2  \n",
       "8071   1  \n",
       "\n",
       "[26906 rows x 7 columns]"
      ]
     },
     "execution_count": 19,
     "metadata": {},
     "output_type": "execute_result"
    }
   ],
   "source": [
    "#importing labelencodeer form sklearn library\n",
    "#labelencoder converts categorical values into numeric form according to thier alphabet order \n",
    "\n",
    "from sklearn.preprocessing import LabelEncoder\n",
    "dataset['color_number'] = LabelEncoder().fit_transform(dataset['color_type'])\n",
    "dataset = dataset[['condition','length_range','height_range','duration_range','color_number','X1','X2']].fillna(-1)\n",
    "dataset"
   ]
  },
  {
   "cell_type": "code",
   "execution_count": 20,
   "metadata": {},
   "outputs": [
    {
     "data": {
      "text/plain": [
       "<matplotlib.axes._subplots.AxesSubplot at 0x1c36ac2c848>"
      ]
     },
     "execution_count": 20,
     "metadata": {},
     "output_type": "execute_result"
    },
    {
     "data": {
      "image/png": "[encoded data removed]",
      "text/plain": [
       "<Figure size 432x288 with 1 Axes>"
      ]
     },
     "metadata": {
      "needs_background": "light"
     },
     "output_type": "display_data"
    }
   ],
   "source": [
    "dataset['X2'].value_counts().plot(kind='barh')"
   ]
  },
  {
   "cell_type": "code",
   "execution_count": 21,
   "metadata": {},
   "outputs": [
    {
     "data": {
      "text/plain": [
       "<matplotlib.axes._subplots.AxesSubplot at 0x1c36accd788>"
      ]
     },
     "execution_count": 21,
     "metadata": {},
     "output_type": "execute_result"
    },
    {
     "data": {
      "image/png": "[encoded data removed]",
      "text/plain": [
       "<Figure size 432x288 with 1 Axes>"
      ]
     },
     "metadata": {
      "needs_background": "light"
     },
     "output_type": "display_data"
    }
   ],
   "source": [
    "dataset['X1'].value_counts().plot(kind='barh')"
   ]
  },
  {
   "cell_type": "code",
   "execution_count": 22,
   "metadata": {},
   "outputs": [],
   "source": [
    "#importing train_test_split from sklearn.model_selction\n",
    "from sklearn.model_selection import train_test_split\n",
    "x_tr,x_ts,y_tr,y_ts,z_tr,z_ts=train_test_split(dataset.iloc[:len(train)],train[\"breed_category\"],train[\"pet_category\"],test_size=0.3)"
   ]
  },
  {
   "cell_type": "code",
   "execution_count": 23,
   "metadata": {},
   "outputs": [
    {
     "name": "stderr",
     "output_type": "stream",
     "text": [
      "C:\\ProgramData\\Anaconda3\\lib\\site-packages\\sklearn\\linear_model\\logistic.py:947: ConvergenceWarning: lbfgs failed to converge. Increase the number of iterations.\n",
      "  \"of iterations.\", ConvergenceWarning)\n"
     ]
    }
   ],
   "source": [
    "#logistic regression\n",
    "from sklearn.linear_model import LogisticRegression\n",
    "X_test = dataset.iloc[len(train):]\n",
    "LR_b = LogisticRegression(random_state=0, solver='lbfgs', multi_class='multinomial').fit(x_tr, y_tr)\n",
    "y_pr = LR_b.predict(x_ts)\n"
   ]
  },
  {
   "cell_type": "code",
   "execution_count": 24,
   "metadata": {},
   "outputs": [],
   "source": [
    "#importing cm and cr to check measurment of performance of the algorithm\n",
    "from sklearn.metrics import confusion_matrix , classification_report\n",
    "cm=confusion_matrix(y_ts,y_pr)\n",
    "cr=(classification_report(y_ts,y_pr))"
   ]
  },
  {
   "cell_type": "code",
   "execution_count": 25,
   "metadata": {},
   "outputs": [
    {
     "data": {
      "text/plain": [
       "array([[2334,  354,    0],\n",
       "       [ 618, 1890,    0],\n",
       "       [   0,    1,  454]], dtype=int64)"
      ]
     },
     "execution_count": 25,
     "metadata": {},
     "output_type": "execute_result"
    }
   ],
   "source": [
    "cm"
   ]
  },
  {
   "cell_type": "code",
   "execution_count": 26,
   "metadata": {},
   "outputs": [
    {
     "data": {
      "text/plain": [
       "'              precision    recall  f1-score   support\\n\\n           0       0.79      0.87      0.83      2688\\n           1       0.84      0.75      0.80      2508\\n           2       1.00      1.00      1.00       455\\n\\n    accuracy                           0.83      5651\\n   macro avg       0.88      0.87      0.87      5651\\nweighted avg       0.83      0.83      0.83      5651\\n'"
      ]
     },
     "execution_count": 26,
     "metadata": {},
     "output_type": "execute_result"
    }
   ],
   "source": [
    "cr"
   ]
  },
  {
   "cell_type": "code",
   "execution_count": 27,
   "metadata": {},
   "outputs": [
    {
     "data": {
      "text/plain": [
       "<matplotlib.axes._subplots.AxesSubplot at 0x1c36cc59448>"
      ]
     },
     "execution_count": 27,
     "metadata": {},
     "output_type": "execute_result"
    },
    {
     "data": {
      "image/png": "[encoded data removed]",
      "text/plain": [
       "<Figure size 432x288 with 1 Axes>"
      ]
     },
     "metadata": {
      "needs_background": "light"
     },
     "output_type": "display_data"
    }
   ],
   "source": [
    "Y_LR = LR_b.predict(X_test)\n",
    "pd.DataFrame(Y_LR, columns=['Value'])['Value'].value_counts().plot(kind='barh')"
   ]
  },
  {
   "cell_type": "code",
   "execution_count": 28,
   "metadata": {},
   "outputs": [
    {
     "name": "stderr",
     "output_type": "stream",
     "text": [
      "C:\\ProgramData\\Anaconda3\\lib\\site-packages\\sklearn\\svm\\base.py:193: FutureWarning: The default value of gamma will change from 'auto' to 'scale' in version 0.22 to account better for unscaled features. Set gamma explicitly to 'auto' or 'scale' to avoid this warning.\n",
      "  \"avoid this warning.\", FutureWarning)\n"
     ]
    }
   ],
   "source": [
    "#Svm\n",
    "from sklearn.svm import SVC\n",
    "SVM_b = SVC(decision_function_shape=\"ovo\").fit(x_tr, y_tr)\n",
    "y_svc = SVM_b.predict(x_ts)\n",
    "cm=confusion_matrix(y_ts,y_svc)\n",
    "cr=(classification_report(y_ts,y_svc))"
   ]
  },
  {
   "cell_type": "code",
   "execution_count": 29,
   "metadata": {},
   "outputs": [
    {
     "data": {
      "text/plain": [
       "array([[2579,  109,    0],\n",
       "       [ 516, 1982,   10],\n",
       "       [   0,   28,  427]], dtype=int64)"
      ]
     },
     "execution_count": 29,
     "metadata": {},
     "output_type": "execute_result"
    }
   ],
   "source": [
    "cm"
   ]
  },
  {
   "cell_type": "code",
   "execution_count": 30,
   "metadata": {},
   "outputs": [
    {
     "data": {
      "text/plain": [
       "'              precision    recall  f1-score   support\\n\\n           0       0.83      0.96      0.89      2688\\n           1       0.94      0.79      0.86      2508\\n           2       0.98      0.94      0.96       455\\n\\n    accuracy                           0.88      5651\\n   macro avg       0.92      0.90      0.90      5651\\nweighted avg       0.89      0.88      0.88      5651\\n'"
      ]
     },
     "execution_count": 30,
     "metadata": {},
     "output_type": "execute_result"
    }
   ],
   "source": [
    "cr"
   ]
  },
  {
   "cell_type": "code",
   "execution_count": 31,
   "metadata": {},
   "outputs": [
    {
     "data": {
      "text/html": [
       "<div>\n",
       "<style scoped>\n",
       "    .dataframe tbody tr th:only-of-type {\n",
       "        vertical-align: middle;\n",
       "    }\n",
       "\n",
       "    .dataframe tbody tr th {\n",
       "        vertical-align: top;\n",
       "    }\n",
       "\n",
       "    .dataframe thead th {\n",
       "        text-align: right;\n",
       "    }\n",
       "</style>\n",
       "<table border=\"1\" class=\"dataframe\">\n",
       "  <thead>\n",
       "    <tr style=\"text-align: right;\">\n",
       "      <th></th>\n",
       "      <th>condition</th>\n",
       "      <th>length_range</th>\n",
       "      <th>height_range</th>\n",
       "      <th>duration_range</th>\n",
       "      <th>color_number</th>\n",
       "      <th>X1</th>\n",
       "      <th>X2</th>\n",
       "    </tr>\n",
       "  </thead>\n",
       "  <tbody>\n",
       "    <tr>\n",
       "      <td>0</td>\n",
       "      <td>0.0</td>\n",
       "      <td>4</td>\n",
       "      <td>4</td>\n",
       "      <td>5</td>\n",
       "      <td>2</td>\n",
       "      <td>0</td>\n",
       "      <td>7</td>\n",
       "    </tr>\n",
       "    <tr>\n",
       "      <td>1</td>\n",
       "      <td>1.0</td>\n",
       "      <td>1</td>\n",
       "      <td>1</td>\n",
       "      <td>2</td>\n",
       "      <td>38</td>\n",
       "      <td>0</td>\n",
       "      <td>1</td>\n",
       "    </tr>\n",
       "    <tr>\n",
       "      <td>2</td>\n",
       "      <td>1.0</td>\n",
       "      <td>1</td>\n",
       "      <td>4</td>\n",
       "      <td>4</td>\n",
       "      <td>2</td>\n",
       "      <td>0</td>\n",
       "      <td>7</td>\n",
       "    </tr>\n",
       "    <tr>\n",
       "      <td>3</td>\n",
       "      <td>1.0</td>\n",
       "      <td>2</td>\n",
       "      <td>1</td>\n",
       "      <td>4</td>\n",
       "      <td>2</td>\n",
       "      <td>7</td>\n",
       "      <td>1</td>\n",
       "    </tr>\n",
       "    <tr>\n",
       "      <td>4</td>\n",
       "      <td>1.0</td>\n",
       "      <td>3</td>\n",
       "      <td>3</td>\n",
       "      <td>3</td>\n",
       "      <td>15</td>\n",
       "      <td>0</td>\n",
       "      <td>7</td>\n",
       "    </tr>\n",
       "    <tr>\n",
       "      <td>...</td>\n",
       "      <td>...</td>\n",
       "      <td>...</td>\n",
       "      <td>...</td>\n",
       "      <td>...</td>\n",
       "      <td>...</td>\n",
       "      <td>...</td>\n",
       "      <td>...</td>\n",
       "    </tr>\n",
       "    <tr>\n",
       "      <td>8067</td>\n",
       "      <td>2.0</td>\n",
       "      <td>4</td>\n",
       "      <td>3</td>\n",
       "      <td>2</td>\n",
       "      <td>15</td>\n",
       "      <td>13</td>\n",
       "      <td>9</td>\n",
       "    </tr>\n",
       "    <tr>\n",
       "      <td>8068</td>\n",
       "      <td>0.0</td>\n",
       "      <td>2</td>\n",
       "      <td>3</td>\n",
       "      <td>3</td>\n",
       "      <td>48</td>\n",
       "      <td>13</td>\n",
       "      <td>9</td>\n",
       "    </tr>\n",
       "    <tr>\n",
       "      <td>8069</td>\n",
       "      <td>0.0</td>\n",
       "      <td>4</td>\n",
       "      <td>3</td>\n",
       "      <td>2</td>\n",
       "      <td>2</td>\n",
       "      <td>0</td>\n",
       "      <td>7</td>\n",
       "    </tr>\n",
       "    <tr>\n",
       "      <td>8070</td>\n",
       "      <td>-1.0</td>\n",
       "      <td>4</td>\n",
       "      <td>2</td>\n",
       "      <td>2</td>\n",
       "      <td>2</td>\n",
       "      <td>0</td>\n",
       "      <td>2</td>\n",
       "    </tr>\n",
       "    <tr>\n",
       "      <td>8071</td>\n",
       "      <td>0.0</td>\n",
       "      <td>3</td>\n",
       "      <td>2</td>\n",
       "      <td>2</td>\n",
       "      <td>2</td>\n",
       "      <td>0</td>\n",
       "      <td>1</td>\n",
       "    </tr>\n",
       "  </tbody>\n",
       "</table>\n",
       "<p>8072 rows × 7 columns</p>\n",
       "</div>"
      ],
      "text/plain": [
       "      condition  length_range  height_range  duration_range  color_number  X1  \\\n",
       "0           0.0             4             4               5             2   0   \n",
       "1           1.0             1             1               2            38   0   \n",
       "2           1.0             1             4               4             2   0   \n",
       "3           1.0             2             1               4             2   7   \n",
       "4           1.0             3             3               3            15   0   \n",
       "...         ...           ...           ...             ...           ...  ..   \n",
       "8067        2.0             4             3               2            15  13   \n",
       "8068        0.0             2             3               3            48  13   \n",
       "8069        0.0             4             3               2             2   0   \n",
       "8070       -1.0             4             2               2             2   0   \n",
       "8071        0.0             3             2               2             2   0   \n",
       "\n",
       "      X2  \n",
       "0      7  \n",
       "1      1  \n",
       "2      7  \n",
       "3      1  \n",
       "4      7  \n",
       "...   ..  \n",
       "8067   9  \n",
       "8068   9  \n",
       "8069   7  \n",
       "8070   2  \n",
       "8071   1  \n",
       "\n",
       "[8072 rows x 7 columns]"
      ]
     },
     "execution_count": 31,
     "metadata": {},
     "output_type": "execute_result"
    }
   ],
   "source": [
    "X_test"
   ]
  },
  {
   "cell_type": "code",
   "execution_count": 32,
   "metadata": {},
   "outputs": [
    {
     "data": {
      "text/plain": [
       "<matplotlib.axes._subplots.AxesSubplot at 0x1c36ccdd448>"
      ]
     },
     "execution_count": 32,
     "metadata": {},
     "output_type": "execute_result"
    },
    {
     "data": {
      "image/png": "[encoded data removed]",
      "text/plain": [
       "<Figure size 432x288 with 1 Axes>"
      ]
     },
     "metadata": {
      "needs_background": "light"
     },
     "output_type": "display_data"
    }
   ],
   "source": [
    "y_SVC=SVM_b.predict(X_test)\n",
    "pd.DataFrame(y_SVC, columns=['Value'])['Value'].value_counts().plot(kind='barh')"
   ]
  },
  {
   "cell_type": "code",
   "execution_count": 33,
   "metadata": {},
   "outputs": [
    {
     "data": {
      "text/plain": [
       "<matplotlib.axes._subplots.AxesSubplot at 0x1c37aca03c8>"
      ]
     },
     "execution_count": 33,
     "metadata": {},
     "output_type": "execute_result"
    },
    {
     "data": {
      "image/png": "[encoded data removed]",
      "text/plain": [
       "<Figure size 432x288 with 1 Axes>"
      ]
     },
     "metadata": {
      "needs_background": "light"
     },
     "output_type": "display_data"
    }
   ],
   "source": [
    "from sklearn.ensemble import RandomForestClassifier\n",
    "RF_b = RandomForestClassifier(n_estimators=1000, max_depth=10, random_state=0).fit(x_tr, y_tr)\n",
    "y_rf = RF_b.predict(x_ts)\n",
    "y_RF=RF_b.predict(X_test)\n",
    "pd.DataFrame(y_RF, columns=['Value'])['Value'].value_counts().plot(kind='barh')"
   ]
  },
  {
   "cell_type": "code",
   "execution_count": 34,
   "metadata": {},
   "outputs": [
    {
     "data": {
      "text/plain": [
       "array([[2514,  174,    0],\n",
       "       [ 400, 2108,    0],\n",
       "       [   0,    0,  455]], dtype=int64)"
      ]
     },
     "execution_count": 34,
     "metadata": {},
     "output_type": "execute_result"
    }
   ],
   "source": [
    "cm=confusion_matrix(y_ts,y_rf)\n",
    "cm"
   ]
  },
  {
   "cell_type": "code",
   "execution_count": 35,
   "metadata": {},
   "outputs": [
    {
     "data": {
      "text/plain": [
       "'              precision    recall  f1-score   support\\n\\n           0       0.86      0.94      0.90      2688\\n           1       0.92      0.84      0.88      2508\\n           2       1.00      1.00      1.00       455\\n\\n    accuracy                           0.90      5651\\n   macro avg       0.93      0.93      0.93      5651\\nweighted avg       0.90      0.90      0.90      5651\\n'"
      ]
     },
     "execution_count": 35,
     "metadata": {},
     "output_type": "execute_result"
    }
   ],
   "source": [
    "cr=classification_report(y_ts,y_rf)\n",
    "cr"
   ]
  },
  {
   "cell_type": "code",
   "execution_count": 36,
   "metadata": {},
   "outputs": [],
   "source": [
    "from sklearn.neural_network import MLPClassifier\n",
    "NN_b = MLPClassifier(solver='lbfgs', alpha=1e-5, hidden_layer_sizes=(150, 10), random_state=1).fit(x_tr, y_tr)\n",
    "y_nn = NN_b.predict(x_ts)\n"
   ]
  },
  {
   "cell_type": "code",
   "execution_count": 37,
   "metadata": {},
   "outputs": [],
   "source": [
    "cm=confusion_matrix(y_ts,y_nn)\n",
    "cr=classification_report(y_ts,y_nn)"
   ]
  },
  {
   "cell_type": "code",
   "execution_count": 38,
   "metadata": {},
   "outputs": [
    {
     "data": {
      "text/plain": [
       "array([[2429,  259,    0],\n",
       "       [ 348, 2160,    0],\n",
       "       [   0,    0,  455]], dtype=int64)"
      ]
     },
     "execution_count": 38,
     "metadata": {},
     "output_type": "execute_result"
    }
   ],
   "source": [
    "cm"
   ]
  },
  {
   "cell_type": "code",
   "execution_count": 39,
   "metadata": {},
   "outputs": [
    {
     "data": {
      "text/plain": [
       "'              precision    recall  f1-score   support\\n\\n           0       0.87      0.90      0.89      2688\\n           1       0.89      0.86      0.88      2508\\n           2       1.00      1.00      1.00       455\\n\\n    accuracy                           0.89      5651\\n   macro avg       0.92      0.92      0.92      5651\\nweighted avg       0.89      0.89      0.89      5651\\n'"
      ]
     },
     "execution_count": 39,
     "metadata": {},
     "output_type": "execute_result"
    }
   ],
   "source": [
    "cr"
   ]
  },
  {
   "cell_type": "code",
   "execution_count": 40,
   "metadata": {},
   "outputs": [
    {
     "data": {
      "text/plain": [
       "<matplotlib.axes._subplots.AxesSubplot at 0x1c37ad9e4c8>"
      ]
     },
     "execution_count": 40,
     "metadata": {},
     "output_type": "execute_result"
    },
    {
     "data": {
      "image/png": "[encoded data removed]",
      "text/plain": [
       "<Figure size 432x288 with 1 Axes>"
      ]
     },
     "metadata": {
      "needs_background": "light"
     },
     "output_type": "display_data"
    }
   ],
   "source": [
    "y_NN= NN_b.predict(X_test)\n",
    "pd.DataFrame(y_NN, columns=['Value'])['Value'].value_counts().plot(kind='barh')"
   ]
  },
  {
   "cell_type": "code",
   "execution_count": 41,
   "metadata": {},
   "outputs": [
    {
     "name": "stderr",
     "output_type": "stream",
     "text": [
      "C:\\ProgramData\\Anaconda3\\lib\\site-packages\\sklearn\\linear_model\\logistic.py:947: ConvergenceWarning: lbfgs failed to converge. Increase the number of iterations.\n",
      "  \"of iterations.\", ConvergenceWarning)\n"
     ]
    }
   ],
   "source": [
    "#predictio of pet_category using the logistic_regression\n",
    "from sklearn.linear_model import LogisticRegression\n",
    "X_test = dataset.iloc[len(train):]\n",
    "LR_P = LogisticRegression(random_state=0, solver='lbfgs', multi_class='multinomial').fit(x_tr, z_tr)\n",
    "z_lr = LR_P.predict(x_ts)"
   ]
  },
  {
   "cell_type": "code",
   "execution_count": 42,
   "metadata": {},
   "outputs": [
    {
     "name": "stderr",
     "output_type": "stream",
     "text": [
      "C:\\ProgramData\\Anaconda3\\lib\\site-packages\\sklearn\\metrics\\classification.py:1437: UndefinedMetricWarning: Precision and F-score are ill-defined and being set to 0.0 in labels with no predicted samples.\n",
      "  'precision', 'predicted', average, warn_for)\n"
     ]
    }
   ],
   "source": [
    "cm=confusion_matrix(z_ts,z_lr)\n",
    "cr=(classification_report(z_ts,z_lr))"
   ]
  },
  {
   "cell_type": "code",
   "execution_count": 43,
   "metadata": {},
   "outputs": [
    {
     "data": {
      "text/plain": [
       "array([[   0,    5,   17,    7],\n",
       "       [   0, 1274,  853,   25],\n",
       "       [   0,  580, 2581,    8],\n",
       "       [   0,   41,   67,  193]], dtype=int64)"
      ]
     },
     "execution_count": 43,
     "metadata": {},
     "output_type": "execute_result"
    }
   ],
   "source": [
    "cm"
   ]
  },
  {
   "cell_type": "code",
   "execution_count": 44,
   "metadata": {},
   "outputs": [
    {
     "data": {
      "text/plain": [
       "'              precision    recall  f1-score   support\\n\\n           0       0.00      0.00      0.00        29\\n           1       0.67      0.59      0.63      2152\\n           2       0.73      0.81      0.77      3169\\n           4       0.83      0.64      0.72       301\\n\\n    accuracy                           0.72      5651\\n   macro avg       0.56      0.51      0.53      5651\\nweighted avg       0.71      0.72      0.71      5651\\n'"
      ]
     },
     "execution_count": 44,
     "metadata": {},
     "output_type": "execute_result"
    }
   ],
   "source": [
    "cr\n",
    "\n"
   ]
  },
  {
   "cell_type": "code",
   "execution_count": 45,
   "metadata": {},
   "outputs": [
    {
     "data": {
      "text/plain": [
       "<matplotlib.axes._subplots.AxesSubplot at 0x1c37ae3ae08>"
      ]
     },
     "execution_count": 45,
     "metadata": {},
     "output_type": "execute_result"
    },
    {
     "data": {
      "image/png": "[encoded data removed]",
      "text/plain": [
       "<Figure size 432x288 with 1 Axes>"
      ]
     },
     "metadata": {
      "needs_background": "light"
     },
     "output_type": "display_data"
    }
   ],
   "source": [
    "z_LR=LR_P.predict(X_test)\n",
    "pd.DataFrame(z_LR,columns=[\"value\"])[\"value\"].value_counts().plot(kind=\"barh\")"
   ]
  },
  {
   "cell_type": "code",
   "execution_count": 46,
   "metadata": {},
   "outputs": [
    {
     "name": "stderr",
     "output_type": "stream",
     "text": [
      "C:\\ProgramData\\Anaconda3\\lib\\site-packages\\sklearn\\svm\\base.py:193: FutureWarning: The default value of gamma will change from 'auto' to 'scale' in version 0.22 to account better for unscaled features. Set gamma explicitly to 'auto' or 'scale' to avoid this warning.\n",
      "  \"avoid this warning.\", FutureWarning)\n"
     ]
    }
   ],
   "source": [
    "SVM_P = SVC(decision_function_shape=\"ovo\").fit(x_tr, z_tr)\n",
    "z_svc = SVM_P.predict(x_ts)\n",
    "cm=confusion_matrix(z_ts,z_svc)\n",
    "cr=(classification_report(z_ts,z_svc))"
   ]
  },
  {
   "cell_type": "code",
   "execution_count": 47,
   "metadata": {},
   "outputs": [
    {
     "data": {
      "text/plain": [
       "array([[   1,    1,   20,    7],\n",
       "       [   0, 1661,  484,    7],\n",
       "       [   1,  160, 3003,    5],\n",
       "       [   0,   24,   62,  215]], dtype=int64)"
      ]
     },
     "execution_count": 47,
     "metadata": {},
     "output_type": "execute_result"
    }
   ],
   "source": [
    "cm"
   ]
  },
  {
   "cell_type": "code",
   "execution_count": 48,
   "metadata": {},
   "outputs": [
    {
     "data": {
      "text/plain": [
       "'              precision    recall  f1-score   support\\n\\n           0       0.50      0.03      0.06        29\\n           1       0.90      0.77      0.83      2152\\n           2       0.84      0.95      0.89      3169\\n           4       0.92      0.71      0.80       301\\n\\n    accuracy                           0.86      5651\\n   macro avg       0.79      0.62      0.65      5651\\nweighted avg       0.87      0.86      0.86      5651\\n'"
      ]
     },
     "execution_count": 48,
     "metadata": {},
     "output_type": "execute_result"
    }
   ],
   "source": [
    "cr"
   ]
  },
  {
   "cell_type": "code",
   "execution_count": 49,
   "metadata": {},
   "outputs": [
    {
     "data": {
      "text/plain": [
       "<matplotlib.axes._subplots.AxesSubplot at 0x1c37aea3f88>"
      ]
     },
     "execution_count": 49,
     "metadata": {},
     "output_type": "execute_result"
    },
    {
     "data": {
      "image/png": "[encoded data removed]",
      "text/plain": [
       "<Figure size 432x288 with 1 Axes>"
      ]
     },
     "metadata": {
      "needs_background": "light"
     },
     "output_type": "display_data"
    }
   ],
   "source": [
    "z_SVC=SVM_P.predict(X_test)\n",
    "pd.DataFrame(z_SVC, columns=['Value'])['Value'].value_counts().plot(kind='barh')"
   ]
  },
  {
   "cell_type": "code",
   "execution_count": 50,
   "metadata": {},
   "outputs": [],
   "source": [
    "RF_P = RandomForestClassifier(n_estimators=1000, max_depth=10, random_state=0).fit(x_tr, z_tr)\n",
    "z_rf = RF_P.predict(x_ts)\n",
    "cm=confusion_matrix(z_ts,z_rf)\n",
    "cr=classification_report(z_ts,z_rf)"
   ]
  },
  {
   "cell_type": "code",
   "execution_count": 51,
   "metadata": {},
   "outputs": [
    {
     "data": {
      "text/plain": [
       "array([[   5,    0,   15,    9],\n",
       "       [   0, 1647,  498,    7],\n",
       "       [   1,  227, 2937,    4],\n",
       "       [   2,   25,   44,  230]], dtype=int64)"
      ]
     },
     "execution_count": 51,
     "metadata": {},
     "output_type": "execute_result"
    }
   ],
   "source": [
    "cm"
   ]
  },
  {
   "cell_type": "code",
   "execution_count": 52,
   "metadata": {},
   "outputs": [
    {
     "data": {
      "text/plain": [
       "'              precision    recall  f1-score   support\\n\\n           0       0.62      0.17      0.27        29\\n           1       0.87      0.77      0.81      2152\\n           2       0.84      0.93      0.88      3169\\n           4       0.92      0.76      0.83       301\\n\\n    accuracy                           0.85      5651\\n   macro avg       0.81      0.66      0.70      5651\\nweighted avg       0.85      0.85      0.85      5651\\n'"
      ]
     },
     "execution_count": 52,
     "metadata": {},
     "output_type": "execute_result"
    }
   ],
   "source": [
    "cr"
   ]
  },
  {
   "cell_type": "code",
   "execution_count": 53,
   "metadata": {},
   "outputs": [
    {
     "data": {
      "text/plain": [
       "<matplotlib.axes._subplots.AxesSubplot at 0x1c37d7b7ec8>"
      ]
     },
     "execution_count": 53,
     "metadata": {},
     "output_type": "execute_result"
    },
    {
     "data": {
      "image/png": "[encoded data removed]",
      "text/plain": [
       "<Figure size 432x288 with 1 Axes>"
      ]
     },
     "metadata": {
      "needs_background": "light"
     },
     "output_type": "display_data"
    }
   ],
   "source": [
    "z_RF=RF_P.predict(X_test)\n",
    "pd.DataFrame(z_RF, columns=['Value'])['Value'].value_counts().plot(kind='barh')"
   ]
  },
  {
   "cell_type": "code",
   "execution_count": 54,
   "metadata": {},
   "outputs": [
    {
     "name": "stderr",
     "output_type": "stream",
     "text": [
      "C:\\ProgramData\\Anaconda3\\lib\\site-packages\\sklearn\\metrics\\classification.py:1437: UndefinedMetricWarning: Precision and F-score are ill-defined and being set to 0.0 in labels with no predicted samples.\n",
      "  'precision', 'predicted', average, warn_for)\n"
     ]
    }
   ],
   "source": [
    "\n",
    "NN_P = MLPClassifier(solver='lbfgs', alpha=1e-5, hidden_layer_sizes=(150, 10), random_state=1).fit(x_tr, z_tr)\n",
    "z_nn = NN_P.predict(x_ts)\n",
    "cm=confusion_matrix(z_ts,z_nn)\n",
    "cr=classification_report(z_ts,z_nn)"
   ]
  },
  {
   "cell_type": "code",
   "execution_count": 55,
   "metadata": {},
   "outputs": [
    {
     "data": {
      "text/plain": [
       "array([[   0,    9,   16,    4],\n",
       "       [   0, 1282,  846,   24],\n",
       "       [   0,  391, 2772,    6],\n",
       "       [   0,   48,   62,  191]], dtype=int64)"
      ]
     },
     "execution_count": 55,
     "metadata": {},
     "output_type": "execute_result"
    }
   ],
   "source": [
    "cm"
   ]
  },
  {
   "cell_type": "code",
   "execution_count": 56,
   "metadata": {},
   "outputs": [
    {
     "data": {
      "text/plain": [
       "'              precision    recall  f1-score   support\\n\\n           0       0.00      0.00      0.00        29\\n           1       0.74      0.60      0.66      2152\\n           2       0.75      0.87      0.81      3169\\n           4       0.85      0.63      0.73       301\\n\\n    accuracy                           0.75      5651\\n   macro avg       0.58      0.53      0.55      5651\\nweighted avg       0.75      0.75      0.74      5651\\n'"
      ]
     },
     "execution_count": 56,
     "metadata": {},
     "output_type": "execute_result"
    }
   ],
   "source": [
    "cr"
   ]
  },
  {
   "cell_type": "code",
   "execution_count": 57,
   "metadata": {},
   "outputs": [
    {
     "data": {
      "text/plain": [
       "<matplotlib.axes._subplots.AxesSubplot at 0x1c37ad94348>"
      ]
     },
     "execution_count": 57,
     "metadata": {},
     "output_type": "execute_result"
    },
    {
     "data": {
      "image/png": "[encoded data removed]",
      "text/plain": [
       "<Figure size 432x288 with 1 Axes>"
      ]
     },
     "metadata": {
      "needs_background": "light"
     },
     "output_type": "display_data"
    }
   ],
   "source": [
    "z_NN=NN_P.predict(X_test)\n",
    "pd.DataFrame(z_NN,columns=['value'])['value'].value_counts().plot(kind=\"barh\")"
   ]
  },
  {
   "cell_type": "code",
   "execution_count": 58,
   "metadata": {},
   "outputs": [
    {
     "data": {
      "image/png": "[encoded data removed]",
      "text/plain": [
       "<Figure size 720x720 with 4 Axes>"
      ]
     },
     "metadata": {
      "needs_background": "light"
     },
     "output_type": "display_data"
    }
   ],
   "source": [
    "#ploting all four results of breed category\n",
    "import matplotlib.pyplot as plt\n",
    "fig, ax = plt.subplots(2,2,figsize=(10,10))\n",
    "\n",
    "title = ['LR', 'SVC', 'RF','NN']\n",
    "y_value = [Y_LR, y_SVC, y_RF,y_NN]\n",
    "z_value = [z_LR, z_SVC, z_RF,z_NN]\n",
    "\n",
    "for i in range(2):\n",
    "    pd.DataFrame(y_value[i], columns=['Value'])['Value'].value_counts().plot(kind='barh', ax=ax[0,i])\n",
    "    ax[0,i].title.set_text(title[i])\n",
    "\n",
    "for i in range(2):\n",
    "    pd.DataFrame(y_value[2+i], columns=['Value'])['Value'].value_counts().plot(kind='barh', ax=ax[1,i])\n",
    "    ax[1,i].title.set_text(title[2+i])"
   ]
  },
  {
   "cell_type": "code",
   "execution_count": 59,
   "metadata": {},
   "outputs": [
    {
     "data": {
      "image/png": "[encoded data removed]",
      "text/plain": [
       "<Figure size 720x720 with 4 Axes>"
      ]
     },
     "metadata": {
      "needs_background": "light"
     },
     "output_type": "display_data"
    }
   ],
   "source": [
    "#ploting the all four results of pet_category\n",
    "import matplotlib.pyplot as plt\n",
    "fig, ax = plt.subplots(2,2,figsize=(10,10))\n",
    "\n",
    "title = ['LR', 'SVC', 'RF','NN']\n",
    "y_value = [Y_LR, y_SVC, y_RF,y_NN]\n",
    "z_value = [z_LR, z_SVC, z_RF,z_NN]\n",
    "\n",
    "for i in range(2):\n",
    "    pd.DataFrame(z_value[i], columns=['Value'])['Value'].value_counts().plot(kind='barh', ax=ax[0,i])\n",
    "    ax[0,i].title.set_text(title[i])\n",
    "\n",
    "for i in range(2):\n",
    "    pd.DataFrame(z_value[2+i], columns=['Value'])['Value'].value_counts().plot(kind='barh', ax=ax[1,i])\n",
    "    ax[1,i].title.set_text(title[2+i])"
   ]
  },
  {
   "cell_type": "code",
   "execution_count": 60,
   "metadata": {},
   "outputs": [
    {
     "name": "stderr",
     "output_type": "stream",
     "text": [
      "C:\\ProgramData\\Anaconda3\\lib\\site-packages\\sklearn\\externals\\joblib\\__init__.py:15: DeprecationWarning: sklearn.externals.joblib is deprecated in 0.21 and will be removed in 0.23. Please import this functionality directly from joblib, which can be installed with: pip install joblib. If this warning is raised when loading pickled models, you may need to re-serialize those models with scikit-learn 0.21+.\n",
      "  warnings.warn(msg, category=DeprecationWarning)\n"
     ]
    },
    {
     "data": {
      "text/plain": [
       "['Breed_Classification.ml']"
      ]
     },
     "execution_count": 60,
     "metadata": {},
     "output_type": "execute_result"
    }
   ],
   "source": [
    "\n",
    "from sklearn.externals import joblib\n",
    "joblib.dump(RF_b, 'Breed_Classification.ml')"
   ]
  },
  {
   "cell_type": "code",
   "execution_count": 61,
   "metadata": {},
   "outputs": [
    {
     "data": {
      "text/plain": [
       "['Pet_Classification.ml']"
      ]
     },
     "execution_count": 61,
     "metadata": {},
     "output_type": "execute_result"
    }
   ],
   "source": [
    "joblib.dump(RF_P, 'Pet_Classification.ml')"
   ]
  },
  {
   "cell_type": "code",
   "execution_count": 62,
   "metadata": {},
   "outputs": [
    {
     "data": {
      "text/plain": [
       "array([1], dtype=int64)"
      ]
     },
     "execution_count": 62,
     "metadata": {},
     "output_type": "execute_result"
    }
   ],
   "source": [
    "from sklearn.externals import joblib\n",
    "model_1= joblib.load('Breed_Classification.ml')\n",
    "model_1.predict([[2.0,4,1,1,18,13,9]])\n"
   ]
  },
  {
   "cell_type": "code",
   "execution_count": 63,
   "metadata": {},
   "outputs": [
    {
     "data": {
      "text/plain": [
       "array([1], dtype=int64)"
      ]
     },
     "execution_count": 63,
     "metadata": {},
     "output_type": "execute_result"
    }
   ],
   "source": [
    "model_2=joblib.load('Pet_Classification.ml')\n",
    "model_2.predict([[2.0,4,1,1,18,13,9]])"
   ]
  },
  {
   "cell_type": "code",
   "execution_count": null,
   "metadata": {},
   "outputs": [],
   "source": []
  }
 ],
 "metadata": {
  "kernelspec": {
   "display_name": "Python 3",
   "language": "python",
   "name": "python3"
  },
  "language_info": {
   "codemirror_mode": {
    "name": "ipython",
    "version": 3
   },
   "file_extension": ".py",
   "mimetype": "text/x-python",
   "name": "python",
   "nbconvert_exporter": "python",
   "pygments_lexer": "ipython3",
   "version": "3.7.4"
  }
 },
 "nbformat": 4,
 "nbformat_minor": 2
}
